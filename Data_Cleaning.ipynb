{
 "cells": [
  {
   "cell_type": "code",
   "execution_count": 139,
   "id": "363307bf-dcee-4f39-bdc9-bd61390b8959",
   "metadata": {},
   "outputs": [],
   "source": [
    "import pandas as pd\n",
    "import numpy as ny\n",
    "import matplotlib.pyplot as plt"
   ]
  },
  {
   "cell_type": "code",
   "execution_count": 140,
   "id": "13cb11ef-d44e-4360-ba85-cd7e46000f14",
   "metadata": {},
   "outputs": [],
   "source": [
    "df=pd.read_csv(r\"C:\\Users\\linkm\\Documents\\Python\\Project\\Youtube_Trending_Videos\\Encoded.csv\")"
   ]
  },
  {
   "cell_type": "code",
   "execution_count": 141,
   "id": "873b319d-c558-41c8-90b7-be192516ab0c",
   "metadata": {},
   "outputs": [],
   "source": [
    "df.drop(columns='video_id',inplace=True)"
   ]
  },
  {
   "cell_type": "code",
   "execution_count": 142,
   "id": "ac6ce240-c8fc-482c-9379-8a01b225673e",
   "metadata": {},
   "outputs": [],
   "source": [
    "df.drop(columns='thumbnail_link',inplace=True)"
   ]
  },
  {
   "cell_type": "code",
   "execution_count": 143,
   "id": "0f6dd153-43f2-4d05-ae60-de557c0e4773",
   "metadata": {},
   "outputs": [],
   "source": [
    "#df.drop(columns='category_id', inplace=True)\n",
    "#Not applied as the id might be better for machine learning"
   ]
  },
  {
   "cell_type": "code",
   "execution_count": 144,
   "id": "d8582885-5188-4fe5-8b5d-d83b81208991",
   "metadata": {},
   "outputs": [
    {
     "data": {
      "text/plain": [
       "np.int64(49)"
      ]
     },
     "execution_count": 144,
     "metadata": {},
     "output_type": "execute_result"
    }
   ],
   "source": [
    "df.duplicated().sum()"
   ]
  },
  {
   "cell_type": "code",
   "execution_count": 145,
   "id": "cb34fb87-d3a3-42db-8247-8d7ed9ee656f",
   "metadata": {},
   "outputs": [],
   "source": [
    "df.drop_duplicates(inplace=True)"
   ]
  },
  {
   "cell_type": "code",
   "execution_count": 146,
   "id": "712be0b6-3919-4483-886b-edf96a125c00",
   "metadata": {},
   "outputs": [
    {
     "data": {
      "text/plain": [
       "np.int64(0)"
      ]
     },
     "execution_count": 146,
     "metadata": {},
     "output_type": "execute_result"
    }
   ],
   "source": [
    "df.duplicated().sum()"
   ]
  },
  {
   "cell_type": "code",
   "execution_count": 147,
   "id": "bfc6c9e1-7426-4b1b-9802-3bff3fff3ff9",
   "metadata": {},
   "outputs": [
    {
     "data": {
      "text/plain": [
       "trending_date                0\n",
       "title                        0\n",
       "channel_title                0\n",
       "category_id                  0\n",
       "publish_time                 0\n",
       "tags                         0\n",
       "views                        0\n",
       "likes                        0\n",
       "dislikes                     0\n",
       "comment_count                0\n",
       "comments_disabled            0\n",
       "ratings_disabled             0\n",
       "video_error_or_removed       0\n",
       "description               4107\n",
       "category_name                0\n",
       "dtype: int64"
      ]
     },
     "execution_count": 147,
     "metadata": {},
     "output_type": "execute_result"
    }
   ],
   "source": [
    "df.isnull().sum()"
   ]
  },
  {
   "cell_type": "code",
   "execution_count": 148,
   "id": "66000c2f-25e7-41f0-b1fa-6ff8abdfddaf",
   "metadata": {},
   "outputs": [],
   "source": [
    "df['description'] = df['description'].fillna('Description not available')\n"
   ]
  },
  {
   "cell_type": "code",
   "execution_count": 149,
   "id": "2e36b585-d321-446c-ae9d-f39753a0eaf1",
   "metadata": {},
   "outputs": [
    {
     "name": "stdout",
     "output_type": "stream",
     "text": [
      "<class 'pandas.core.frame.DataFrame'>\n",
      "Index: 40150 entries, 0 to 40198\n",
      "Data columns (total 15 columns):\n",
      " #   Column                  Non-Null Count  Dtype \n",
      "---  ------                  --------------  ----- \n",
      " 0   trending_date           40150 non-null  object\n",
      " 1   title                   40150 non-null  object\n",
      " 2   channel_title           40150 non-null  object\n",
      " 3   category_id             40150 non-null  int64 \n",
      " 4   publish_time            40150 non-null  object\n",
      " 5   tags                    40150 non-null  object\n",
      " 6   views                   40150 non-null  int64 \n",
      " 7   likes                   40150 non-null  int64 \n",
      " 8   dislikes                40150 non-null  int64 \n",
      " 9   comment_count           40150 non-null  int64 \n",
      " 10  comments_disabled       40150 non-null  bool  \n",
      " 11  ratings_disabled        40150 non-null  bool  \n",
      " 12  video_error_or_removed  40150 non-null  bool  \n",
      " 13  description             40150 non-null  object\n",
      " 14  category_name           40150 non-null  object\n",
      "dtypes: bool(3), int64(5), object(7)\n",
      "memory usage: 4.1+ MB\n"
     ]
    }
   ],
   "source": [
    "df.info()"
   ]
  },
  {
   "cell_type": "code",
   "execution_count": 150,
   "id": "c6a2963c-a025-47c9-82e8-1f271a321dc1",
   "metadata": {},
   "outputs": [],
   "source": [
    "df['trending_date'] = pd.to_datetime(df['trending_date'], format='%y.%d.%m', errors='coerce')"
   ]
  },
  {
   "cell_type": "code",
   "execution_count": 151,
   "id": "4ac5f820-b44f-49ec-8701-c3f20cc35d68",
   "metadata": {},
   "outputs": [
    {
     "data": {
      "text/plain": [
       "(Timestamp('2017-11-14 00:00:00'), Timestamp('2018-06-14 00:00:00'))"
      ]
     },
     "execution_count": 151,
     "metadata": {},
     "output_type": "execute_result"
    }
   ],
   "source": [
    "df['trending_date'].head()\n",
    "df['trending_date'].min(), df['trending_date'].max()"
   ]
  },
  {
   "cell_type": "code",
   "execution_count": 152,
   "id": "8e7c8ef6-c171-41bc-b389-f21f4029eae9",
   "metadata": {},
   "outputs": [],
   "source": [
    "df['publish_time'] = pd.to_datetime(df['publish_time'], utc=True)"
   ]
  },
  {
   "cell_type": "code",
   "execution_count": 153,
   "id": "29801430-67ec-4c79-81a5-afe12b2d5e66",
   "metadata": {},
   "outputs": [
    {
     "data": {
      "text/plain": [
       "(Timestamp('2009-10-07 09:25:39+0000', tz='UTC'),\n",
       " Timestamp('2018-06-14 03:40:05+0000', tz='UTC'))"
      ]
     },
     "execution_count": 153,
     "metadata": {},
     "output_type": "execute_result"
    }
   ],
   "source": [
    "df['publish_time'].head()\n",
    "df['publish_time'].min(), df['publish_time'].max()"
   ]
  },
  {
   "cell_type": "code",
   "execution_count": 154,
   "id": "eaa5260a-3bb7-49b5-84e8-ee6d4af653a6",
   "metadata": {},
   "outputs": [
    {
     "name": "stdout",
     "output_type": "stream",
     "text": [
      "<class 'pandas.core.frame.DataFrame'>\n",
      "Index: 40150 entries, 0 to 40198\n",
      "Data columns (total 15 columns):\n",
      " #   Column                  Non-Null Count  Dtype              \n",
      "---  ------                  --------------  -----              \n",
      " 0   trending_date           40150 non-null  datetime64[ns]     \n",
      " 1   title                   40150 non-null  object             \n",
      " 2   channel_title           40150 non-null  object             \n",
      " 3   category_id             40150 non-null  int64              \n",
      " 4   publish_time            40150 non-null  datetime64[ns, UTC]\n",
      " 5   tags                    40150 non-null  object             \n",
      " 6   views                   40150 non-null  int64              \n",
      " 7   likes                   40150 non-null  int64              \n",
      " 8   dislikes                40150 non-null  int64              \n",
      " 9   comment_count           40150 non-null  int64              \n",
      " 10  comments_disabled       40150 non-null  bool               \n",
      " 11  ratings_disabled        40150 non-null  bool               \n",
      " 12  video_error_or_removed  40150 non-null  bool               \n",
      " 13  description             40150 non-null  object             \n",
      " 14  category_name           40150 non-null  object             \n",
      "dtypes: bool(3), datetime64[ns, UTC](1), datetime64[ns](1), int64(5), object(5)\n",
      "memory usage: 4.1+ MB\n"
     ]
    }
   ],
   "source": [
    "df.info()"
   ]
  },
  {
   "cell_type": "code",
   "execution_count": 155,
   "id": "5f276c0a-aefb-4a7c-958c-0fbe65588fe1",
   "metadata": {},
   "outputs": [],
   "source": [
    "df.reset_index(drop=True, inplace=True)\n",
    "df.to_csv(r\"C:\\Users\\linkm\\Documents\\Python\\Project\\Youtube_Trending_Videos\\Clean.csv\", index=False)"
   ]
  },
  {
   "cell_type": "code",
   "execution_count": null,
   "id": "5f4d53e6-4ebf-4505-8ade-f38628e9d4c1",
   "metadata": {},
   "outputs": [],
   "source": []
  }
 ],
 "metadata": {
  "kernelspec": {
   "display_name": "Python [conda env:base] *",
   "language": "python",
   "name": "conda-base-py"
  },
  "language_info": {
   "codemirror_mode": {
    "name": "ipython",
    "version": 3
   },
   "file_extension": ".py",
   "mimetype": "text/x-python",
   "name": "python",
   "nbconvert_exporter": "python",
   "pygments_lexer": "ipython3",
   "version": "3.13.5"
  }
 },
 "nbformat": 4,
 "nbformat_minor": 5
}
